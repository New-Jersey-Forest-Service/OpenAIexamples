{
 "cells": [
  {
   "cell_type": "markdown",
   "metadata": {
    "id": "OQ7YLW9et3My"
   },
   "source": [
    "<font size=\"5\">**OpenAI GPT Basic Example**</font>\n",
    "\n",
    "This is a basic example of how to use the \n",
    "OpenAI GPT API in Python. This Jupyter\n",
    "notebook was designed to run in Google Colab,\n",
    "but can easily work on other platforms as well.\n",
    "\n",
    "In this example we construct a prompt that utilizes\n",
    "a number of variables that describe a forest stad in the \n",
    "formulation of a response.The prompt informs the model of \n",
    "an average value for basal area that it my comment on \n",
    "when drafting the stand description.\n",
    "\n",
    "William Zipse, NJ Forest Service 2023"
   ]
  },
  {
   "cell_type": "code",
   "execution_count": 14,
   "metadata": {
    "executionInfo": {
     "elapsed": 8,
     "status": "ok",
     "timestamp": 1678472138622,
     "user": {
      "displayName": "William Zipse",
      "userId": "05258451565054985349"
     },
     "user_tz": 300
    },
    "id": "nQHPZMBYKv7x"
   },
   "outputs": [],
   "source": [
    "#Set API Key\n",
    "#You will need an OpenAI API key to run this script!\n",
    "#Use your own key where quoted in the API_KEY constant below.\n",
    "#This will establish which key to charge for tokens!\n",
    "#BE CAREFUL!!!\n",
    "API_KEY =\"\""
   ]
  },
  {
   "cell_type": "code",
   "execution_count": null,
   "metadata": {},
   "outputs": [],
   "source": [
    "#solves problem with openai install in Colab\n",
    "#This is a workaround for a known bug at this time\n",
    "#Uncomment below if using Google Colab and openai won't install\n",
    "#!pip install aiohttp"
   ]
  },
  {
   "cell_type": "markdown",
   "metadata": {},
   "source": [
    "The code below is used to install the openai Python library\n",
    "in the Google Colab environment"
   ]
  },
  {
   "cell_type": "code",
   "execution_count": 2,
   "metadata": {
    "colab": {
     "base_uri": "https://localhost:8080/"
    },
    "executionInfo": {
     "elapsed": 8781,
     "status": "ok",
     "timestamp": 1678472196705,
     "user": {
      "displayName": "William Zipse",
      "userId": "05258451565054985349"
     },
     "user_tz": 300
    },
    "id": "vN75wjA4KO4K",
    "outputId": "f8c9ebc8-9459-48b9-920c-7ee545f9f946"
   },
   "outputs": [],
   "source": [
    "#install OpenAI\n",
    "#Uncomment beolow if using Google Colab\n",
    "#!pip install --upgrade openai"
   ]
  },
  {
   "cell_type": "code",
   "execution_count": 3,
   "metadata": {
    "colab": {
     "base_uri": "https://localhost:8080/",
     "height": 339
    },
    "executionInfo": {
     "elapsed": 261,
     "status": "error",
     "timestamp": 1678472181833,
     "user": {
      "displayName": "William Zipse",
      "userId": "05258451565054985349"
     },
     "user_tz": 300
    },
    "id": "y1Vpq8YLH1I3",
    "outputId": "d322b776-1420-40e3-e275-bf18fbf1f243"
   },
   "outputs": [],
   "source": [
    "#Taken from OpenAI documentation\n",
    "#os is used if calling environment variables\n",
    "import os\n",
    "import openai"
   ]
  },
  {
   "cell_type": "code",
   "execution_count": null,
   "metadata": {
    "id": "BP4SZVFVEM-n"
   },
   "outputs": [],
   "source": [
    "#Establish paths and connections"
   ]
  },
  {
   "cell_type": "code",
   "execution_count": null,
   "metadata": {
    "id": "QH4aX9mdKcN9"
   },
   "outputs": [],
   "source": [
    "#This code is to set the API Key through environment variables\n",
    "#uncomment below if using API key through environment varibles method only!\n",
    "#!export OPENAI_API_KEY=\"<OPENAI_API_KEY>\"\n",
    "#openai.api_key = os.getenv(\"OPENAI_API_KEY\")"
   ]
  },
  {
   "cell_type": "code",
   "execution_count": 5,
   "metadata": {
    "id": "gBVimftEH32h"
   },
   "outputs": [],
   "source": [
    "#Set API Key from API_KEY constant set at the beginning of this notebook\n",
    "openai.api_key = API_KEY"
   ]
  },
  {
   "cell_type": "markdown",
   "metadata": {},
   "source": [
    "<font size=\"3\">**Variables for the Prompt**</font>\n",
    "\n",
    "The variables below contain the values that will be used in\n",
    "the forest stand description by the GPT model. In this example\n",
    "the values are set in the definitions below, however these \n",
    "variables could easily be changed in other implementations."
   ]
  },
  {
   "cell_type": "code",
   "execution_count": 6,
   "metadata": {
    "id": "Wz1nC-w8JPat"
   },
   "outputs": [],
   "source": [
    "#define forest stand variables\n",
    "qmd = 6.0\n",
    "tpa = 311\n",
    "ba = 95\n",
    "ft = 'Pitch Pine/Oak'\n",
    "area = 150"
   ]
  },
  {
   "cell_type": "markdown",
   "metadata": {},
   "source": [
    "<font size=\"3\">**Making the Prompt**</font>\n",
    "\n",
    "The string variable called \"p\" below contains the prompt to send to the openai API. \n",
    "Note that the variables defined previously are referred to in this prompt. Also \n",
    "note that prompts are preceded by \"Prompt:\" and responses are preceded by \"Response:\" \n",
    "In this case, the response after \"Response:\"is left blank for the model to complete.\n",
    "You may give the model a series of defined prompts and responses prior to leaving a\n",
    "response blank. The delimiters of \"Prompt:\" and \"Response:\" are defined in the call \n",
    "to openai.Completion.create() in the block after the definition of the variable \"p\"."
   ]
  },
  {
   "cell_type": "code",
   "execution_count": 7,
   "metadata": {
    "id": "D5dRb2s4O2Oo"
   },
   "outputs": [],
   "source": [
    "p = '''Prompt:\n",
    "Generate a description of a forest stand where \n",
    "QMD is quadratic mean diameter in inches, TPA is trees per acre, BA is average tree basal \n",
    "area in square feet per acre, FT is forest type naming dominant tree species in the overstory, \n",
    "and area is the stand area in\n",
    "acres. '''+'In this stand QMD = '+str(qmd)+', '+'TPA = '+str(tpa)+', BA = '+str(ba)+', FT = '+str(ft)+'area = '+str(area)+'''\n",
    "The statewide average BA is 111.0 square feet per acre. \\n Response:'''"
   ]
  },
  {
   "cell_type": "markdown",
   "metadata": {},
   "source": [
    "<font size=\"3\">**Calling the OpenAI API**</font>\n",
    "\n",
    "Below the variable \"response\" is defined by calling the \n",
    "openai.Completion.create() function.  The function returns \n",
    "nested Python dictionaries.  Model parameters can be set here. \n",
    "See OpenAI documentation for details. Note the \"prompt\" variable \n",
    "is set to \"p\" above; max_tokens can be adjusted to adjust the \n",
    "length of prompts and responses (larger values may charge \n",
    "more tokens on the OpenAI account associated with the API key);\n",
    "temperature can be set between 0 - 2. This is were the \"stop\" \n",
    "list is set as well. Here it is set to \"Prompt:\" for the prompt \n",
    "and \"Response:\" for the response.\""
   ]
  },
  {
   "cell_type": "code",
   "execution_count": 11,
   "metadata": {
    "id": "87sGWFF8LciJ"
   },
   "outputs": [],
   "source": [
    "#set model parameters he\n",
    "response = openai.Completion.create(\n",
    "  model=\"text-davinci-003\",\n",
    "  prompt= str(p),\n",
    "  temperature=1.1,\n",
    "  max_tokens=200,\n",
    "  top_p=1,\n",
    "  frequency_penalty=0.0,\n",
    "  presence_penalty=0.0,\n",
    "  stop=[\"Prompt:\", \"Response:\"]\n",
    ")"
   ]
  },
  {
   "cell_type": "markdown",
   "metadata": {},
   "source": [
    "<font size=\"3\">**Locating the Text Response**</font>\n",
    "\n",
    "Below the variable \"answer\" is set to the location of the \n",
    "text response from the \"response\" variable above."
   ]
  },
  {
   "cell_type": "code",
   "execution_count": 12,
   "metadata": {
    "id": "jrOQSlAOVxnx"
   },
   "outputs": [],
   "source": [
    "answer = response['choices'][0]['text']"
   ]
  },
  {
   "cell_type": "markdown",
   "metadata": {},
   "source": [
    "<font size=\"3\">**Let's see the text response!**</font>\n",
    "\n",
    "Here we print the \"answer\" variable generated by the model.\n",
    "\n",
    "Now you can try changing the prompt and variables above and\n",
    "see what kinds of results you can get."
   ]
  },
  {
   "cell_type": "code",
   "execution_count": 13,
   "metadata": {
    "colab": {
     "base_uri": "https://localhost:8080/"
    },
    "executionInfo": {
     "elapsed": 106,
     "status": "ok",
     "timestamp": 1677122084740,
     "user": {
      "displayName": "William Zipse",
      "userId": "05258451565054985349"
     },
     "user_tz": 300
    },
    "id": "i7ZrOZkMY0P5",
    "outputId": "85b4bed7-f6ba-46c8-d153-ff93ae373f74"
   },
   "outputs": [
    {
     "name": "stdout",
     "output_type": "stream",
     "text": [
      " \n",
      "This stand is a Pitch Pine/Oak forest spanning 150 acres with an average quadratic mean diameter measuring 6.0 inches and a trees per acre count at 311. This stand's average tree basal area of 95 square feet per acre is lower than the state's average of 111 square feet per acre.\n"
     ]
    }
   ],
   "source": [
    "print(answer)"
   ]
  },
  {
   "cell_type": "markdown",
   "metadata": {},
   "source": []
  }
 ],
 "metadata": {
  "colab": {
   "authorship_tag": "ABX9TyOK8YhjrsgCiKc3ef0aa0zH",
   "provenance": [
    {
     "file_id": "1r7Jk352C0HS0EofoBbZ13KZbMMaQrn59",
     "timestamp": 1678471776399
    },
    {
     "file_id": "13PjFrznGvIW27HVOok3cPVRfVS8wVxhX",
     "timestamp": 1677864440698
    }
   ]
  },
  "kernelspec": {
   "display_name": "Python 3 (ipykernel)",
   "language": "python",
   "name": "python3"
  },
  "language_info": {
   "codemirror_mode": {
    "name": "ipython",
    "version": 3
   },
   "file_extension": ".py",
   "mimetype": "text/x-python",
   "name": "python",
   "nbconvert_exporter": "python",
   "pygments_lexer": "ipython3",
   "version": "3.8.15"
  }
 },
 "nbformat": 4,
 "nbformat_minor": 1
}
